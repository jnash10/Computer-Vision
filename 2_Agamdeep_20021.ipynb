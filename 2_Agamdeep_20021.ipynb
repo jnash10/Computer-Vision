{
 "cells": [
  {
   "cell_type": "markdown",
   "metadata": {},
   "source": [
    "# Agamdeep Singh 20021"
   ]
  },
  {
   "cell_type": "code",
   "execution_count": 5,
   "metadata": {},
   "outputs": [],
   "source": [
    "import numpy as np\n",
    "import matplotlib.pyplot as plt"
   ]
  },
  {
   "cell_type": "markdown",
   "metadata": {},
   "source": [
    "q1"
   ]
  },
  {
   "cell_type": "code",
   "execution_count": 6,
   "metadata": {},
   "outputs": [
    {
     "data": {
      "text/plain": [
       "3.333333333333333"
      ]
     },
     "execution_count": 6,
     "metadata": {},
     "output_type": "execute_result"
    }
   ],
   "source": [
    "m=(5-3)/(3-0)\n",
    "\n",
    "y = m*(2-0) + 2\n",
    "\n",
    "y"
   ]
  },
  {
   "cell_type": "markdown",
   "metadata": {},
   "source": [
    "q2"
   ]
  },
  {
   "cell_type": "code",
   "execution_count": 7,
   "metadata": {},
   "outputs": [
    {
     "data": {
      "text/plain": [
       "array([[ 0.8660254,  0.5      ],\n",
       "       [-0.5      ,  0.8660254]])"
      ]
     },
     "execution_count": 7,
     "metadata": {},
     "output_type": "execute_result"
    }
   ],
   "source": [
    "def rotation_matrix(degrees):\n",
    "    radians = degrees*np.pi/180\n",
    "    row1 = [np.cos(radians), np.sin(radians)]\n",
    "    row2 = [-np.sin(radians), np.cos(radians)]\n",
    "    return np.array([row1,row2])\n",
    "rotation_matrix(30)"
   ]
  },
  {
   "cell_type": "code",
   "execution_count": 8,
   "metadata": {},
   "outputs": [
    {
     "data": {
      "text/plain": [
       "array([3.59807621, 0.23205081])"
      ]
     },
     "execution_count": 8,
     "metadata": {},
     "output_type": "execute_result"
    }
   ],
   "source": [
    "initial_vector = np.array([3,2])\n",
    "\n",
    "rotated_vector = np.matmul(rotation_matrix(30), initial_vector)\n",
    "\n",
    "rotated_vector\n",
    "\n"
   ]
  },
  {
   "cell_type": "code",
   "execution_count": 9,
   "metadata": {},
   "outputs": [
    {
     "data": {
      "image/png": "[encoded data removed]",
      "text/plain": [
       "<Figure size 432x288 with 1 Axes>"
      ]
     },
     "metadata": {
      "needs_background": "light"
     },
     "output_type": "display_data"
    }
   ],
   "source": [
    "plt.scatter(initial_vector[0],initial_vector[1])\n",
    "plt.scatter(rotated_vector[0],rotated_vector[1])\n",
    "plt.xlim([-5,5])\n",
    "plt.ylim([-5,5])\n",
    "plt.show()"
   ]
  },
  {
   "cell_type": "code",
   "execution_count": 10,
   "metadata": {},
   "outputs": [
    {
     "data": {
      "text/plain": [
       "array([8.59807621, 7.23205081])"
      ]
     },
     "execution_count": 10,
     "metadata": {},
     "output_type": "execute_result"
    }
   ],
   "source": [
    "final_vector = rotated_vector + np.array([5,7])\n",
    "\n",
    "final_vector"
   ]
  },
  {
   "cell_type": "markdown",
   "metadata": {},
   "source": [
    "q3\n"
   ]
  },
  {
   "cell_type": "code",
   "execution_count": 11,
   "metadata": {},
   "outputs": [
    {
     "data": {
      "text/plain": [
       "[<matplotlib.lines.Line2D at 0x7f25d4551190>]"
      ]
     },
     "execution_count": 11,
     "metadata": {},
     "output_type": "execute_result"
    },
    {
     "data": {
      "image/png": "[encoded data removed]",
      "text/plain": [
       "<Figure size 432x288 with 1 Axes>"
      ]
     },
     "metadata": {
      "needs_background": "light"
     },
     "output_type": "display_data"
    }
   ],
   "source": [
    "x_space = np.linspace(-1,4,100)\n",
    "y_space = (x_space**2)/10 - 2*np.sin(x_space)\n",
    "\n",
    "plt.plot(x_space,y_space)"
   ]
  },
  {
   "cell_type": "code",
   "execution_count": 12,
   "metadata": {},
   "outputs": [],
   "source": [
    "x = np.array([0,1,2])\n",
    "y = (x**2)/10 - 2*np.sin(x)"
   ]
  },
  {
   "cell_type": "code",
   "execution_count": 13,
   "metadata": {},
   "outputs": [
    {
     "data": {
      "text/plain": [
       "(array([0, 1, 2]), array([ 0.        , -1.58294197, -1.41859485]))"
      ]
     },
     "execution_count": 13,
     "metadata": {},
     "output_type": "execute_result"
    }
   ],
   "source": [
    "x,y"
   ]
  },
  {
   "cell_type": "code",
   "execution_count": 14,
   "metadata": {},
   "outputs": [],
   "source": [
    "coefficients = np.matmul(np.linalg.inv(np.array([[x[0]**2, x[0],1],[x[1]**2, x[1],1],[x[2]**2, x[2],1]])),np.array([[y[0]],[y[1]],[y[2]]]))"
   ]
  },
  {
   "cell_type": "code",
   "execution_count": 15,
   "metadata": {},
   "outputs": [
    {
     "data": {
      "text/plain": [
       "array([[ 0.87364454],\n",
       "       [-2.45658651],\n",
       "       [ 0.        ]])"
      ]
     },
     "execution_count": 15,
     "metadata": {},
     "output_type": "execute_result"
    }
   ],
   "source": [
    "coefficients"
   ]
  },
  {
   "cell_type": "code",
   "execution_count": 16,
   "metadata": {},
   "outputs": [],
   "source": [
    "y_predicted = coefficients[0]*x_space**2 + coefficients[1]*x_space + coefficients[2]\n"
   ]
  },
  {
   "cell_type": "code",
   "execution_count": 17,
   "metadata": {},
   "outputs": [
    {
     "data": {
      "image/png": "[encoded data removed]",
      "text/plain": [
       "<Figure size 432x288 with 1 Axes>"
      ]
     },
     "metadata": {
      "needs_background": "light"
     },
     "output_type": "display_data"
    }
   ],
   "source": [
    "plt.plot(x_space,y_space)\n",
    "plt.plot(x_space,y_predicted)\n",
    "plt.show()"
   ]
  },
  {
   "cell_type": "code",
   "execution_count": 18,
   "metadata": {},
   "outputs": [
    {
     "data": {
      "text/plain": [
       "array([-1.71917955])"
      ]
     },
     "execution_count": 18,
     "metadata": {},
     "output_type": "execute_result"
    }
   ],
   "source": [
    "f1_5 = coefficients[0]*(1.5)**2 + coefficients[1]*(1.5) + coefficients[2]\n",
    "f1_5"
   ]
  },
  {
   "cell_type": "markdown",
   "metadata": {},
   "source": [
    "q4"
   ]
  },
  {
   "cell_type": "code",
   "execution_count": 19,
   "metadata": {},
   "outputs": [
    {
     "data": {
      "text/plain": [
       "(5, 7, 1)"
      ]
     },
     "execution_count": 19,
     "metadata": {},
     "output_type": "execute_result"
    }
   ],
   "source": [
    "(5,7,1)"
   ]
  },
  {
   "cell_type": "markdown",
   "metadata": {},
   "source": [
    "q5"
   ]
  },
  {
   "cell_type": "code",
   "execution_count": 20,
   "metadata": {},
   "outputs": [
    {
     "data": {
      "text/plain": [
       "'line'"
      ]
     },
     "execution_count": 20,
     "metadata": {},
     "output_type": "execute_result"
    }
   ],
   "source": [
    "\"line\""
   ]
  },
  {
   "cell_type": "code",
   "execution_count": 21,
   "metadata": {},
   "outputs": [],
   "source": [
    "n1 = np.array([2,1,-1])\n",
    "n2 = np.array([1,-1,1])\n"
   ]
  },
  {
   "cell_type": "code",
   "execution_count": 22,
   "metadata": {},
   "outputs": [
    {
     "data": {
      "text/plain": [
       "array([ 0, -3, -3])"
      ]
     },
     "execution_count": 22,
     "metadata": {},
     "output_type": "execute_result"
    }
   ],
   "source": [
    "intersection = np.cross(n1,n2)\n",
    "intersection"
   ]
  },
  {
   "cell_type": "markdown",
   "metadata": {},
   "source": [
    "this is the direction vector of the line.\n",
    "\n",
    "now to get point, we put z = 0 in plane uqautions and solve simultaneously"
   ]
  },
  {
   "cell_type": "markdown",
   "metadata": {},
   "source": []
  },
  {
   "cell_type": "markdown",
   "metadata": {},
   "source": [
    "q6.1"
   ]
  },
  {
   "cell_type": "markdown",
   "metadata": {},
   "source": [
    "parallel"
   ]
  },
  {
   "cell_type": "markdown",
   "metadata": {},
   "source": [
    "vanishing point"
   ]
  },
  {
   "cell_type": "markdown",
   "metadata": {},
   "source": [
    "l1 : 3x + 2y + 1 = 0\n",
    "l2 : 6x + 4y -2 = 0\n",
    "\n",
    "if A=[x,y,1] lies on l1, l2:\n",
    "\n",
    "A.l1 = 0\n",
    "A.l2 = 0\n",
    "\n",
    "hence A is parallel to l1xl2\n",
    "\n",
    "A = w.l1xl2\n"
   ]
  },
  {
   "cell_type": "code",
   "execution_count": 23,
   "metadata": {},
   "outputs": [
    {
     "data": {
      "text/plain": [
       "array([-8, 12,  0])"
      ]
     },
     "execution_count": 23,
     "metadata": {},
     "output_type": "execute_result"
    }
   ],
   "source": [
    "l1 = [3,2,1]\n",
    "l2 = [6,4,-2]\n",
    "\n",
    "l1cl2 = np.cross(l1,l2)\n",
    "\n",
    "l1cl2"
   ]
  },
  {
   "cell_type": "markdown",
   "metadata": {},
   "source": [
    "in euclidean coordinates: (8,-12)"
   ]
  },
  {
   "cell_type": "markdown",
   "metadata": {},
   "source": [
    "q6.2"
   ]
  },
  {
   "cell_type": "code",
   "execution_count": 24,
   "metadata": {},
   "outputs": [
    {
     "data": {
      "text/plain": [
       "[1, 1, 1]"
      ]
     },
     "execution_count": 24,
     "metadata": {},
     "output_type": "execute_result"
    }
   ],
   "source": [
    "sample = [1,1]\n",
    "\n",
    "def homogenise(ec_point):\n",
    "    hom_point = [ec_point[0],ec_point[1],1]\n",
    "    return hom_point\n",
    "homogenise(sample)"
   ]
  },
  {
   "cell_type": "markdown",
   "metadata": {},
   "source": [
    "assuming direction vector for D is in 2-D HC"
   ]
  },
  {
   "cell_type": "code",
   "execution_count": 25,
   "metadata": {},
   "outputs": [
    {
     "data": {
      "text/plain": [
       "array([[11.83012702, 11.16025404, 17.41025404],\n",
       "       [ 2.09807621, -0.1339746 ,  2.03108891],\n",
       "       [ 0.        ,  0.        ,  1.        ]])"
      ]
     },
     "execution_count": 25,
     "metadata": {},
     "output_type": "execute_result"
    }
   ],
   "source": [
    "A = np.array([[5,0,0],[0,1,0],[0,0,1]])\n",
    "\n",
    "B = np.array([[np.cos(np.pi/6),np.sin(np.pi/6),0],[-np.sin(np.pi/6),np.cos(np.pi/6),0],[0,0,1]])\n",
    "\n",
    "C = np.array([[1,2,0],[3,1,0],[0,0,1]])\n",
    "\n",
    "dir = np.array([2,1,2])\n",
    "normalised_dir = [1,1/2,1]\n",
    "\n",
    "D = np.array([[1,0,1],[0,1,1/2],[0,0,1]])\n",
    "\n",
    "H = np.matmul(A,np.matmul(B,np.matmul(C,D)))\n",
    "\n",
    "H"
   ]
  },
  {
   "cell_type": "markdown",
   "metadata": {},
   "source": [
    "Q7"
   ]
  },
  {
   "cell_type": "code",
   "execution_count": 26,
   "metadata": {},
   "outputs": [],
   "source": [
    "A = np.array([[2,3,9]])"
   ]
  },
  {
   "cell_type": "code",
   "execution_count": 27,
   "metadata": {},
   "outputs": [],
   "source": [
    "T = np.array([[8,0,5]]).T"
   ]
  },
  {
   "cell_type": "code",
   "execution_count": 28,
   "metadata": {},
   "outputs": [
    {
     "data": {
      "text/plain": [
       "array([[8],\n",
       "       [0],\n",
       "       [5]])"
      ]
     },
     "execution_count": 28,
     "metadata": {},
     "output_type": "execute_result"
    }
   ],
   "source": [
    "T"
   ]
  },
  {
   "cell_type": "code",
   "execution_count": 29,
   "metadata": {},
   "outputs": [],
   "source": [
    "scale = 2"
   ]
  },
  {
   "cell_type": "code",
   "execution_count": 30,
   "metadata": {},
   "outputs": [],
   "source": [
    "zero = np.array([[0,0,0]])"
   ]
  },
  {
   "cell_type": "code",
   "execution_count": 31,
   "metadata": {},
   "outputs": [
    {
     "data": {
      "text/plain": [
       "array([[1., 0., 0.],\n",
       "       [0., 1., 0.],\n",
       "       [0., 0., 1.]])"
      ]
     },
     "execution_count": 31,
     "metadata": {},
     "output_type": "execute_result"
    }
   ],
   "source": [
    "np.identity(3)"
   ]
  },
  {
   "cell_type": "code",
   "execution_count": 32,
   "metadata": {},
   "outputs": [
    {
     "data": {
      "text/plain": [
       "array([[ 1.,  0.,  0., 16.],\n",
       "       [ 0.,  1.,  0.,  0.],\n",
       "       [ 0.,  0.,  1., 10.],\n",
       "       [ 0.,  0.,  0.,  1.]])"
      ]
     },
     "execution_count": 32,
     "metadata": {},
     "output_type": "execute_result"
    }
   ],
   "source": [
    "proj_mat = np.concatenate((1*np.identity(3),zero),axis=0)\n",
    "last_column = np.concatenate((scale*T,np.array([[1]])),axis=0)\n",
    "proj_mat = np.concatenate((proj_mat,last_column),axis=1)\n",
    "proj_mat"
   ]
  },
  {
   "cell_type": "code",
   "execution_count": 33,
   "metadata": {},
   "outputs": [
    {
     "data": {
      "text/plain": [
       "array([18.,  3., 19.,  1.])"
      ]
     },
     "execution_count": 33,
     "metadata": {},
     "output_type": "execute_result"
    }
   ],
   "source": [
    "A_h = np.concatenate((A,np.array([[1]])),axis=1)\n",
    "np.matmul(proj_mat,A_h[0])"
   ]
  },
  {
   "cell_type": "markdown",
   "metadata": {},
   "source": [
    "q8"
   ]
  },
  {
   "cell_type": "code",
   "execution_count": 34,
   "metadata": {},
   "outputs": [],
   "source": [
    "w=np.pi\n",
    "phi=np.pi/2\n",
    "k=np.pi/6"
   ]
  },
  {
   "cell_type": "code",
   "execution_count": 35,
   "metadata": {},
   "outputs": [],
   "source": [
    "from numpy import cos, sin"
   ]
  },
  {
   "cell_type": "code",
   "execution_count": 36,
   "metadata": {},
   "outputs": [],
   "source": [
    "rx = np.array([[1,0,0],[0,cos(w),-sin(w)],[0,sin(w),cos(w)]])\n",
    "ry = np.array([[cos(phi),0,sin(phi)],[0,1,0],[-sin(phi),0,cos(phi)]])\n",
    "rz = np.array([[cos(k),-sin(k),0],[sin(k),cos(k),0],[0,0,1]])\n"
   ]
  },
  {
   "cell_type": "code",
   "execution_count": 37,
   "metadata": {},
   "outputs": [
    {
     "data": {
      "text/plain": [
       "array([[ 5.30287619e-17, -3.06161700e-17,  1.00000000e+00],\n",
       "       [-5.00000000e-01, -8.66025404e-01, -7.49879891e-33],\n",
       "       [ 8.66025404e-01, -5.00000000e-01, -6.12323400e-17]])"
      ]
     },
     "execution_count": 37,
     "metadata": {},
     "output_type": "execute_result"
    }
   ],
   "source": [
    "R = np.matmul(rx,np.matmul(ry,rz))\n",
    "R"
   ]
  },
  {
   "cell_type": "code",
   "execution_count": 38,
   "metadata": {},
   "outputs": [],
   "source": [
    "translation = np.array([[4,-3,7]])"
   ]
  },
  {
   "cell_type": "code",
   "execution_count": 39,
   "metadata": {},
   "outputs": [
    {
     "data": {
      "text/plain": [
       "array([[5],\n",
       "       [9],\n",
       "       [5],\n",
       "       [1]])"
      ]
     },
     "execution_count": 39,
     "metadata": {},
     "output_type": "execute_result"
    }
   ],
   "source": [
    "initial = np.array([[5,9,5,1]])\n",
    "initial.T"
   ]
  },
  {
   "cell_type": "code",
   "execution_count": 40,
   "metadata": {},
   "outputs": [],
   "source": [
    "H = np.concatenate((R,translation.T),axis=1)"
   ]
  },
  {
   "cell_type": "code",
   "execution_count": 41,
   "metadata": {},
   "outputs": [
    {
     "data": {
      "text/plain": [
       "array([[ 5.30287619e-17, -3.06161700e-17,  1.00000000e+00,\n",
       "         4.00000000e+00],\n",
       "       [-5.00000000e-01, -8.66025404e-01, -7.49879891e-33,\n",
       "        -3.00000000e+00],\n",
       "       [ 8.66025404e-01, -5.00000000e-01, -6.12323400e-17,\n",
       "         7.00000000e+00],\n",
       "       [ 0.00000000e+00,  0.00000000e+00,  0.00000000e+00,\n",
       "         1.00000000e+00]])"
      ]
     },
     "execution_count": 41,
     "metadata": {},
     "output_type": "execute_result"
    }
   ],
   "source": [
    "H = np.concatenate((H,np.array([[0,0,0,1]])))\n",
    "H"
   ]
  },
  {
   "cell_type": "code",
   "execution_count": 42,
   "metadata": {},
   "outputs": [
    {
     "data": {
      "text/plain": [
       "array([[  9.        ],\n",
       "       [-13.29422863],\n",
       "       [  6.83012702],\n",
       "       [  1.        ]])"
      ]
     },
     "execution_count": 42,
     "metadata": {},
     "output_type": "execute_result"
    }
   ],
   "source": [
    "final = np.matmul(H,initial.T)\n",
    "final"
   ]
  },
  {
   "cell_type": "markdown",
   "metadata": {},
   "source": [
    "q9"
   ]
  },
  {
   "cell_type": "code",
   "execution_count": 43,
   "metadata": {},
   "outputs": [],
   "source": [
    "three_d = open('3d.txt','r').readlines()\n",
    "two_d = open('2d.txt','r').readlines()\n",
    "\n",
    "\n",
    "def clean(three_d):\n",
    "    for element in three_d:\n",
    "        if element == '\\n':\n",
    "            three_d.remove(element)\n",
    "\n",
    "    for index, element in enumerate(three_d):\n",
    "        element = element.strip(\"\\n\")\n",
    "        element = element.split(\" \")\n",
    "        row = np.array([float(element[0]),float(element[1]),float(element[2]),1])\n",
    "        three_d[index]=row\n",
    "    return three_d\n",
    "\n",
    "def clean_2d(three_d):\n",
    "    for element in three_d:\n",
    "        if element == '\\n':\n",
    "            three_d.remove(element)\n",
    "\n",
    "    for index, element in enumerate(three_d):\n",
    "        element = element.strip(\"\\n\")\n",
    "        element = element.split(\" \")\n",
    "        row = np.array([float(element[0]),float(element[1]),1])\n",
    "        three_d[index]=row\n",
    "    return three_d"
   ]
  },
  {
   "cell_type": "code",
   "execution_count": 44,
   "metadata": {},
   "outputs": [],
   "source": [
    "three_d = clean(three_d)\n",
    "two_d = clean_2d(two_d)"
   ]
  },
  {
   "cell_type": "code",
   "execution_count": 45,
   "metadata": {},
   "outputs": [
    {
     "data": {
      "text/plain": [
       "[array([312.747, 309.14 ,  30.086,   1.   ]),\n",
       " array([305.796, 311.649,  30.356,   1.   ]),\n",
       " array([307.694, 312.358,  30.418,   1.   ]),\n",
       " array([310.149, 307.186,  29.298,   1.   ]),\n",
       " array([311.937, 310.105,  29.216,   1.   ]),\n",
       " array([311.202, 307.572,  30.682,   1.   ]),\n",
       " array([307.106, 306.876,  28.66 ,   1.   ]),\n",
       " array([309.317, 312.49 ,  30.23 ,   1.   ]),\n",
       " array([307.435, 310.151,  29.318,   1.   ]),\n",
       " array([308.253, 306.3  ,  28.881,   1.   ]),\n",
       " array([306.65 , 309.301,  28.905,   1.   ]),\n",
       " array([308.069, 306.831,  29.189,   1.   ]),\n",
       " array([309.671, 308.834,  29.029,   1.   ]),\n",
       " array([308.255, 309.955,  29.267,   1.   ]),\n",
       " array([307.546, 308.613,  28.963,   1.   ]),\n",
       " array([311.036, 309.206,  28.913,   1.   ]),\n",
       " array([307.518, 308.175,  29.069,   1.   ]),\n",
       " array([309.95 , 311.262,  29.99 ,   1.   ]),\n",
       " array([312.16 , 310.772,  29.08 ,   1.   ]),\n",
       " array([311.988, 312.709,  30.514,   1.   ])]"
      ]
     },
     "execution_count": 45,
     "metadata": {},
     "output_type": "execute_result"
    }
   ],
   "source": [
    "three_d"
   ]
  },
  {
   "cell_type": "code",
   "execution_count": 46,
   "metadata": {},
   "outputs": [
    {
     "data": {
      "text/plain": [
       "[array([880., 214.,   1.]),\n",
       " array([ 43., 203.,   1.]),\n",
       " array([270., 197.,   1.]),\n",
       " array([886., 347.,   1.]),\n",
       " array([745., 302.,   1.]),\n",
       " array([943., 128.,   1.]),\n",
       " array([476., 590.,   1.]),\n",
       " array([419., 214.,   1.]),\n",
       " array([317., 335.,   1.]),\n",
       " array([783., 521.,   1.]),\n",
       " array([235., 427.,   1.]),\n",
       " array([665., 429.,   1.]),\n",
       " array([655., 362.,   1.]),\n",
       " array([427., 333.,   1.]),\n",
       " array([412., 415.,   1.]),\n",
       " array([746., 351.,   1.]),\n",
       " array([434., 415.,   1.]),\n",
       " array([525., 234.,   1.]),\n",
       " array([716., 308.,   1.]),\n",
       " array([602., 187.,   1.])]"
      ]
     },
     "execution_count": 46,
     "metadata": {},
     "output_type": "execute_result"
    }
   ],
   "source": [
    "two_d"
   ]
  },
  {
   "cell_type": "code",
   "execution_count": 47,
   "metadata": {},
   "outputs": [
    {
     "data": {
      "text/plain": [
       "20"
      ]
     },
     "execution_count": 47,
     "metadata": {},
     "output_type": "execute_result"
    }
   ],
   "source": [
    "len(two_d)"
   ]
  },
  {
   "cell_type": "code",
   "execution_count": 48,
   "metadata": {},
   "outputs": [
    {
     "name": "stderr",
     "output_type": "stream",
     "text": [
      "/tmp/ipykernel_3133/912002472.py:1: FutureWarning: `rcond` parameter will change to the default of machine precision times ``max(M, N)`` where M and N are the input matrix dimensions.\n",
      "To use the future default and silence this warning we advise to pass `rcond=None`, to keep using the old, explicitly pass `rcond=-1`.\n",
      "  projection = np.linalg.lstsq(three_d,two_d)[0]\n"
     ]
    }
   ],
   "source": [
    "projection = np.linalg.lstsq(three_d,two_d)[0]"
   ]
  },
  {
   "cell_type": "code",
   "execution_count": 49,
   "metadata": {},
   "outputs": [
    {
     "data": {
      "text/plain": [
       "array([[ 9.82892166e+01, -1.41051031e+01,  1.91655791e-18],\n",
       "       [-8.11819439e+01, -1.42377436e+01,  2.17508256e-18],\n",
       "       [ 4.65485197e+01, -1.28907367e+02, -1.16157626e-17],\n",
       "       [-6.08403888e+03,  1.28966305e+04,  1.00000000e+00]])"
      ]
     },
     "execution_count": 49,
     "metadata": {},
     "output_type": "execute_result"
    }
   ],
   "source": [
    "projection"
   ]
  },
  {
   "cell_type": "code",
   "execution_count": 50,
   "metadata": {},
   "outputs": [],
   "source": [
    "x = [row[0] for row in two_d]\n",
    "y = [row[1] for row in two_d]"
   ]
  },
  {
   "cell_type": "code",
   "execution_count": 51,
   "metadata": {},
   "outputs": [
    {
     "data": {
      "text/plain": [
       "<matplotlib.collections.PathCollection at 0x7f25d4440580>"
      ]
     },
     "execution_count": 51,
     "metadata": {},
     "output_type": "execute_result"
    },
    {
     "data": {
      "image/png": "[encoded data removed]",
      "text/plain": [
       "<Figure size 432x288 with 1 Axes>"
      ]
     },
     "metadata": {
      "needs_background": "light"
     },
     "output_type": "display_data"
    }
   ],
   "source": [
    "plt.scatter(x,y)"
   ]
  },
  {
   "cell_type": "code",
   "execution_count": 52,
   "metadata": {},
   "outputs": [
    {
     "data": {
      "text/plain": [
       "[array([959.49136667, 205.53876891,   1.        ]),\n",
       " array([ 85.16562492, 233.05585285,   1.        ]),\n",
       " array([217.04656805, 188.19755025,   1.        ]),\n",
       " array([826.08526679, 371.58338277,   1.        ]),\n",
       " array([761.03931317, 315.37388908,   1.        ]),\n",
       " array([962.67073281, 172.82714442,   1.        ]),\n",
       " array([522.45962765, 501.16181206,   1.        ]),\n",
       " array([357.10282832, 187.66017076,   1.        ]),\n",
       " array([319.55483952, 365.07157557,   1.        ]),\n",
       " array([692.24538167, 464.69567102,   1.        ]),\n",
       " array([292.17791817, 441.48490605,   1.        ]),\n",
       " array([645.38949766, 420.02729916,   1.        ]),\n",
       " array([632.79362585, 389.53790236,   1.        ]),\n",
       " array([413.68968365, 362.87026448,   1.        ]),\n",
       " array([438.79804783, 431.16567397,   1.        ]),\n",
       " array([731.35909511, 379.94125059,   1.        ]),\n",
       " array([476.53778429, 424.13256764,   1.        ]),\n",
       " array([507.83968486, 227.15335765,   1.        ]),\n",
       " array([722.4788532 , 320.26327803,   1.        ]),\n",
       " array([615.0742598 , 110.25768236,   1.        ])]"
      ]
     },
     "execution_count": 52,
     "metadata": {},
     "output_type": "execute_result"
    }
   ],
   "source": [
    "predcited = []\n",
    "for row in three_d:\n",
    "    predcited.append(np.matmul(row,projection))\n",
    "predcited"
   ]
  },
  {
   "cell_type": "code",
   "execution_count": 53,
   "metadata": {},
   "outputs": [
    {
     "data": {
      "text/plain": [
       "<matplotlib.legend.Legend at 0x7f25d44be580>"
      ]
     },
     "execution_count": 53,
     "metadata": {},
     "output_type": "execute_result"
    },
    {
     "data": {
      "image/png": "[encoded data removed]",
      "text/plain": [
       "<Figure size 432x288 with 1 Axes>"
      ]
     },
     "metadata": {
      "needs_background": "light"
     },
     "output_type": "display_data"
    }
   ],
   "source": [
    "x_predicted = [row[0] for row in predcited]\n",
    "y_predicted = [row[1] for row in predcited]\n",
    "\n",
    "plt.scatter(x,y,label='original')\n",
    "plt.scatter(x_predicted,y_predicted, label='predicted')\n",
    "plt.legend()"
   ]
  },
  {
   "cell_type": "markdown",
   "metadata": {},
   "source": [
    "decommposition"
   ]
  },
  {
   "cell_type": "code",
   "execution_count": 54,
   "metadata": {},
   "outputs": [
    {
     "data": {
      "text/plain": [
       "array([[-4.26680150e-01, -9.04402593e-01, -8.53690543e-06],\n",
       "       [ 9.04402590e-01, -4.26680149e-01,  7.35044714e-05],\n",
       "       [ 7.01201625e-05, -2.36420995e-05, -9.99999997e-01]])"
      ]
     },
     "execution_count": 54,
     "metadata": {},
     "output_type": "execute_result"
    }
   ],
   "source": [
    "U, S, Vh = np.linalg.svd(projection)\n",
    "Vh.T"
   ]
  },
  {
   "cell_type": "code",
   "execution_count": 55,
   "metadata": {},
   "outputs": [
    {
     "data": {
      "text/plain": [
       "array([[-3.83541297e-03, -7.17148034e-01, -1.86542627e-01,\n",
       "         6.71480331e-01],\n",
       "       [ 1.52604287e-03,  6.87912227e-01, -3.51526454e-02,\n",
       "         7.24940501e-01],\n",
       "       [-9.56809915e-03,  1.11660199e-01, -9.81766274e-01,\n",
       "        -1.53542941e-01],\n",
       "       [ 9.99945705e-01, -2.73211491e-03, -1.00560066e-02,\n",
       "         7.35901539e-18]])"
      ]
     },
     "execution_count": 55,
     "metadata": {},
     "output_type": "execute_result"
    }
   ],
   "source": [
    "U"
   ]
  },
  {
   "cell_type": "code",
   "execution_count": 56,
   "metadata": {},
   "outputs": [
    {
     "data": {
      "text/plain": [
       "array([1.42604590e+04, 1.15561433e+02, 1.00560066e-02])"
      ]
     },
     "execution_count": 56,
     "metadata": {},
     "output_type": "execute_result"
    }
   ],
   "source": [
    "S"
   ]
  },
  {
   "cell_type": "code",
   "execution_count": 57,
   "metadata": {},
   "outputs": [
    {
     "data": {
      "text/plain": [
       "array([-8.53690543e-06,  7.35044714e-05, -9.99999997e-01])"
      ]
     },
     "execution_count": 57,
     "metadata": {},
     "output_type": "execute_result"
    }
   ],
   "source": [
    "M = Vh[-1,:]\n",
    "M"
   ]
  },
  {
   "cell_type": "markdown",
   "metadata": {},
   "source": [
    "q10"
   ]
  },
  {
   "cell_type": "code",
   "execution_count": 58,
   "metadata": {},
   "outputs": [],
   "source": [
    "M = np.array([[512,-800,0,800],[512,0,-800,1600],[1,0,0,0]])"
   ]
  },
  {
   "cell_type": "code",
   "execution_count": 59,
   "metadata": {},
   "outputs": [],
   "source": [
    "point = np.array([4,0,0,1])"
   ]
  },
  {
   "cell_type": "code",
   "execution_count": 60,
   "metadata": {},
   "outputs": [],
   "source": [
    "projected = np.matmul(M,point.T)"
   ]
  },
  {
   "cell_type": "markdown",
   "metadata": {},
   "source": [
    "homogenous"
   ]
  },
  {
   "cell_type": "code",
   "execution_count": 64,
   "metadata": {},
   "outputs": [
    {
     "data": {
      "text/plain": [
       "array([2848, 3648,    4])"
      ]
     },
     "execution_count": 64,
     "metadata": {},
     "output_type": "execute_result"
    }
   ],
   "source": [
    "projected"
   ]
  },
  {
   "cell_type": "markdown",
   "metadata": {},
   "source": [
    "euclidean"
   ]
  },
  {
   "cell_type": "code",
   "execution_count": 65,
   "metadata": {},
   "outputs": [
    {
     "data": {
      "text/plain": [
       "array([712., 912.])"
      ]
     },
     "execution_count": 65,
     "metadata": {},
     "output_type": "execute_result"
    }
   ],
   "source": [
    "(projected/projected[2])[:-1]"
   ]
  },
  {
   "cell_type": "code",
   "execution_count": null,
   "metadata": {},
   "outputs": [],
   "source": []
  }
 ],
 "metadata": {
  "kernelspec": {
   "display_name": "Python 3.9.7 ('base')",
   "language": "python",
   "name": "python3"
  },
  "language_info": {
   "codemirror_mode": {
    "name": "ipython",
    "version": 3
   },
   "file_extension": ".py",
   "mimetype": "text/x-python",
   "name": "python",
   "nbconvert_exporter": "python",
   "pygments_lexer": "ipython3",
   "version": "3.9.7"
  },
  "orig_nbformat": 4,
  "vscode": {
   "interpreter": {
    "hash": "fc0a28e9396d5935349060b5df5b942f33bdd4f5f21d7c255702f2f0b5634fb1"
   }
  }
 },
 "nbformat": 4,
 "nbformat_minor": 2
}
